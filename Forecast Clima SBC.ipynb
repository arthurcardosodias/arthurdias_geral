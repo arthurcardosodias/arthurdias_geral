{
 "cells": [
  {
   "cell_type": "markdown",
   "id": "ad7f27a0",
   "metadata": {},
   "source": [
    "# Forecast Clima SBC"
   ]
  },
  {
   "cell_type": "code",
   "execution_count": 1,
   "id": "daa12330",
   "metadata": {
    "ExecuteTime": {
     "end_time": "2021-10-15T23:58:13.865572Z",
     "start_time": "2021-10-15T23:58:12.016645Z"
    }
   },
   "outputs": [],
   "source": [
    "import pandas as pd\n",
    "import numpy as np\n",
    "import requests as req\n",
    "import json\n",
    "import psycopg2 as psy\n",
    "from datetime import datetime"
   ]
  },
  {
   "cell_type": "code",
   "execution_count": 2,
   "id": "5feb8823",
   "metadata": {
    "ExecuteTime": {
     "end_time": "2021-10-15T23:58:18.859960Z",
     "start_time": "2021-10-15T23:58:18.849945Z"
    }
   },
   "outputs": [],
   "source": [
    "key = 'b8cf67634e67abfea7f6e3eb09eaaa5a'\n",
    "url = \"http://apiadvisor.climatempo.com.br/api/v1/forecast/locale/3678/days/15?token=\"+key"
   ]
  },
  {
   "cell_type": "code",
   "execution_count": 3,
   "id": "2ac8c148",
   "metadata": {
    "ExecuteTime": {
     "end_time": "2021-10-15T23:58:33.659387Z",
     "start_time": "2021-10-15T23:58:33.409417Z"
    }
   },
   "outputs": [],
   "source": [
    "requisicao = req.get(url)\n",
    "requisicao = requisicao.json()\n",
    "\n",
    "for x in requisicao['data']:\n",
    "    x=json.dumps(x)\n",
    "    x = json.loads(x)\n",
    "    x = dataframe = pd.DataFrame.from_dict(x, orient=\"index\")\n",
    "    z = x.T\n",
    "    z.reset_index(drop=True)\n",
    "#     z.to_csv('clima.csv')"
   ]
  },
  {
   "cell_type": "code",
   "execution_count": 4,
   "id": "66f62ce9",
   "metadata": {
    "ExecuteTime": {
     "end_time": "2021-10-15T23:58:35.607425Z",
     "start_time": "2021-10-15T23:58:35.560545Z"
    }
   },
   "outputs": [
    {
     "data": {
      "text/html": [
       "<div>\n",
       "<style scoped>\n",
       "    .dataframe tbody tr th:only-of-type {\n",
       "        vertical-align: middle;\n",
       "    }\n",
       "\n",
       "    .dataframe tbody tr th {\n",
       "        vertical-align: top;\n",
       "    }\n",
       "\n",
       "    .dataframe thead th {\n",
       "        text-align: right;\n",
       "    }\n",
       "</style>\n",
       "<table border=\"1\" class=\"dataframe\">\n",
       "  <thead>\n",
       "    <tr style=\"text-align: right;\">\n",
       "      <th></th>\n",
       "      <th>0</th>\n",
       "    </tr>\n",
       "  </thead>\n",
       "  <tbody>\n",
       "    <tr>\n",
       "      <th>date</th>\n",
       "      <td>2021-10-21</td>\n",
       "    </tr>\n",
       "    <tr>\n",
       "      <th>date_br</th>\n",
       "      <td>21/10/2021</td>\n",
       "    </tr>\n",
       "    <tr>\n",
       "      <th>humidity</th>\n",
       "      <td>{'min': 63, 'max': 81, 'dawn': {'min': 79, 'ma...</td>\n",
       "    </tr>\n",
       "    <tr>\n",
       "      <th>pressure</th>\n",
       "      <td>{'pressure': 928.4}</td>\n",
       "    </tr>\n",
       "    <tr>\n",
       "      <th>rain</th>\n",
       "      <td>{'probability': 0, 'precipitation': 0}</td>\n",
       "    </tr>\n",
       "    <tr>\n",
       "      <th>wind</th>\n",
       "      <td>{'velocity_min': 11, 'velocity_max': 20, 'velo...</td>\n",
       "    </tr>\n",
       "    <tr>\n",
       "      <th>uv</th>\n",
       "      <td>{'max': 12.2}</td>\n",
       "    </tr>\n",
       "    <tr>\n",
       "      <th>thermal_sensation</th>\n",
       "      <td>{'min': 13, 'max': 18}</td>\n",
       "    </tr>\n",
       "    <tr>\n",
       "      <th>text_icon</th>\n",
       "      <td>{'icon': {'dawn': '1n', 'morning': '1', 'after...</td>\n",
       "    </tr>\n",
       "    <tr>\n",
       "      <th>temperature</th>\n",
       "      <td>{'min': 13, 'max': 18, 'dawn': {'min': 13, 'ma...</td>\n",
       "    </tr>\n",
       "    <tr>\n",
       "      <th>cloud_coverage</th>\n",
       "      <td>{'low': 60.3, 'mid': 0, 'high': 0, 'dawn': {'l...</td>\n",
       "    </tr>\n",
       "    <tr>\n",
       "      <th>sun</th>\n",
       "      <td>{'sunrise': '05:29:00', 'sunset': '18:14:00'}</td>\n",
       "    </tr>\n",
       "  </tbody>\n",
       "</table>\n",
       "</div>"
      ],
      "text/plain": [
       "                                                                   0\n",
       "date                                                      2021-10-21\n",
       "date_br                                                   21/10/2021\n",
       "humidity           {'min': 63, 'max': 81, 'dawn': {'min': 79, 'ma...\n",
       "pressure                                         {'pressure': 928.4}\n",
       "rain                          {'probability': 0, 'precipitation': 0}\n",
       "wind               {'velocity_min': 11, 'velocity_max': 20, 'velo...\n",
       "uv                                                     {'max': 12.2}\n",
       "thermal_sensation                             {'min': 13, 'max': 18}\n",
       "text_icon          {'icon': {'dawn': '1n', 'morning': '1', 'after...\n",
       "temperature        {'min': 13, 'max': 18, 'dawn': {'min': 13, 'ma...\n",
       "cloud_coverage     {'low': 60.3, 'mid': 0, 'high': 0, 'dawn': {'l...\n",
       "sun                    {'sunrise': '05:29:00', 'sunset': '18:14:00'}"
      ]
     },
     "execution_count": 4,
     "metadata": {},
     "output_type": "execute_result"
    }
   ],
   "source": [
    "x"
   ]
  }
 ],
 "metadata": {
  "kernelspec": {
   "display_name": "Python 3",
   "language": "python",
   "name": "python3"
  },
  "language_info": {
   "codemirror_mode": {
    "name": "ipython",
    "version": 3
   },
   "file_extension": ".py",
   "mimetype": "text/x-python",
   "name": "python",
   "nbconvert_exporter": "python",
   "pygments_lexer": "ipython3",
   "version": "3.8.8"
  }
 },
 "nbformat": 4,
 "nbformat_minor": 5
}
